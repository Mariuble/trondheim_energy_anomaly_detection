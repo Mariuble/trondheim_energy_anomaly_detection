{
 "cells": [
  {
   "cell_type": "code",
   "execution_count": 1,
   "metadata": {},
   "outputs": [],
   "source": [
    "import pandas as pd\n",
    "from datetime import datetime, timedelta\n",
    "import matplotlib.pyplot as plt\n",
    "import numpy as np\n",
    "from time import time\n",
    "from datetime import datetime, timedelta"
   ]
  },
  {
   "cell_type": "code",
   "execution_count": 2,
   "metadata": {},
   "outputs": [],
   "source": [
    "start_time = time()\n",
    "\n",
    "energy_meters_df = pd.read_excel('data/VIS Målere.xlsx')\n",
    "# Remove leading and trailing whitespace in cells with value of type string\n",
    "energy_meters_df = energy_meters_df.applymap(lambda x: x.strip() if isinstance(x, str) else x)\n",
    "\n",
    "# parse_dates=['Unnamed: 0']\n",
    "\n",
    "raw_esave_tables_dict = pd.read_excel('data/EsaveExport_Trondheim Kommune_Trondheim_10121314.xls', decimal=',', sheet_name=None)\n",
    "raw_esave_tables_list = raw_esave_tables_dict.values()\n",
    "for table in raw_esave_tables_list:\n",
    "    table.rename(columns={'Unnamed: 0': 'datetime'}, inplace=True)\n",
    "    table['datetime'] = pd.to_datetime(table['datetime'], dayfirst=True)\n",
    "    table.set_index('datetime', inplace=True)\n",
    "    table.sort_index()\n",
    "raw_esave_table = pd.concat(raw_esave_tables_list, axis=1, ignore_index=False)\n",
    "\n",
    "stop_time = time()\n",
    "elapsed_time = stop_time - start_time\n",
    "print(f'Used {elapsed_time:.2f} seconds to read xls files')\n"
   ]
  },
  {
   "cell_type": "code",
   "execution_count": null,
   "metadata": {},
   "outputs": [],
   "source": [
    "energy_meters_df"
   ]
  },
  {
   "cell_type": "code",
   "execution_count": null,
   "metadata": {},
   "outputs": [],
   "source": [
    "raw_esave_table"
   ]
  },
  {
   "cell_type": "markdown",
   "metadata": {},
   "source": [
    "Types of sensors and coresponding unit of measurement:  \n",
    "'Ikke valgt(Ikke valgt)','Elkjel(kWh)', 'Temperatur(°C)', 'Ikke valgt(°C)', 'Fjernvarme(kWh)', 'Ikke valgt(m/s)', 'Vann(m3)', 'Ikke valgt(kWh)', 'Ikke valgt(timer)', 'Fastkraft(kWh)', 'Virkningsgrad(nan)', 'Kjøling(kWh)', 'Varme(kWh)', 'Virkningsgrad(Ikke valgt)', 'Graddager(grdg)'"
   ]
  },
  {
   "cell_type": "code",
   "execution_count": null,
   "metadata": {},
   "outputs": [],
   "source": [
    "start_time = time()\n",
    "\n",
    "buildings = {}\n",
    "current_building = None\n",
    "sensor_types = ['Fastkraft', 'Fjernvarme', 'Varme', 'Elkjel', 'Kjøling']\n",
    "for _, row in energy_meters_df.iterrows():\n",
    "    # if current row is a building not a sensor create a new dict to store all sensors for that building\n",
    "    if row['Objekt'] == 'Bygg':\n",
    "        current_building = {}\n",
    "        for sensor_type in sensor_types:\n",
    "            current_building[sensor_type] = {}\n",
    "        buildings[row['Navn']] = current_building\n",
    "        continue\n",
    "    \n",
    "    sensor_type = row['Type']\n",
    "    if sensor_type in sensor_types:\n",
    "        name = row['Navn']\n",
    "        sensor_id = row['Formel']\n",
    "        current_building[sensor_type][name] = sensor_id\n",
    "\n",
    "\n",
    "stop_time = time()\n",
    "elapsed_time = stop_time - start_time\n",
    "print(f'Used {elapsed_time:.2f} seconds to parse')"
   ]
  },
  {
   "cell_type": "code",
   "execution_count": null,
   "metadata": {},
   "outputs": [],
   "source": [
    "# Create a dictionary that contains a dataframe for each building that have column for each sensor type (e.g. Fjernvarme or Fastkraft)\n",
    "building_dfs = {}\n",
    "for building_name, sensor_type_dict in buildings.items():\n",
    "\n",
    "    sensor_type_series = {}\n",
    "    for sensor_type, sensor_dict in sensor_type_dict.items():\n",
    "        for sensor_id in sensor_dict.values():\n",
    "            if sensor_id in raw_esave_table.columns:\n",
    "                sensor_series = raw_esave_table[sensor_id]\n",
    "                if not sensor_type in sensor_type_series:\n",
    "                    sensor_type_series[sensor_type] = sensor_series\n",
    "                else:\n",
    "                    sensor_type_series[sensor_type] = sensor_type_series[sensor_type] + sensor_series\n",
    "    if sensor_type_series:\n",
    "        building_dfs[building_name] = pd.DataFrame(sensor_type_series)\n",
    "        building_dfs[building_name].sort_index()\n",
    "\n",
    "# Create a column in each building dataframe that is the total energy consumption, i.e. the sum of all other columns.\n",
    "for building_df in building_dfs.values():\n",
    "    building_df['Totalt'] = building_df[list(building_df.columns)].sum(axis=1)\n"
   ]
  },
  {
   "cell_type": "code",
   "execution_count": null,
   "metadata": {},
   "outputs": [],
   "source": [
    "building_dfs['Trondheim Kommune - Voldsminde barnehage'].loc[datetime(2018,1,):datetime(2019,1,1)]\n",
    "building_dfs['Trondheim Kommune - Voldsminde barnehage'].loc['2018-1-1':]"
   ]
  },
  {
   "cell_type": "code",
   "execution_count": null,
   "metadata": {},
   "outputs": [],
   "source": [
    "building_dfs['Trondheim Kommune - Voldsminde barnehage'].plot()\n",
    "plt.show()"
   ]
  },
  {
   "cell_type": "code",
   "execution_count": null,
   "metadata": {},
   "outputs": [],
   "source": [
    "# Create new data frames for each building that have values for each day or week instead of hourly\n",
    "building_daily_dfs = {}\n",
    "building_weekly_dfs = {}\n",
    "for building_name, building_df in building_dfs.items():\n",
    "    building_daily_dfs[building_name] = building_df.resample('D').sum()\n",
    "    building_weekly_dfs[building_name] = building_df.resample('W-MON').sum()\n"
   ]
  },
  {
   "cell_type": "code",
   "execution_count": null,
   "metadata": {},
   "outputs": [],
   "source": [
    "building_daily_dfs['Trondheim Kommune - Voldsminde barnehage'].plot()\n",
    "plt.show()\n",
    "building_weekly_dfs['Trondheim Kommune - Voldsminde barnehage'].plot()\n",
    "plt.show()\n"
   ]
  }
 ],
 "metadata": {
  "interpreter": {
   "hash": "aee8b7b246df8f9039afb4144a1f6fd8d2ca17a180786b69acc140d282b71a49"
  },
  "kernelspec": {
   "display_name": "Python 3.9.9 64-bit",
   "name": "python3"
  },
  "language_info": {
   "codemirror_mode": {
    "name": "ipython",
    "version": 3
   },
   "file_extension": ".py",
   "mimetype": "text/x-python",
   "name": "python",
   "nbconvert_exporter": "python",
   "pygments_lexer": "ipython3",
   "version": "3.9.9"
  },
  "orig_nbformat": 4
 },
 "nbformat": 4,
 "nbformat_minor": 2
}

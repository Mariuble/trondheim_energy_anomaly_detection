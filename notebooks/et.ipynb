{
 "cells": [
  {
   "cell_type": "code",
   "execution_count": null,
   "metadata": {},
   "outputs": [],
   "source": [
    "import pandas as pd\n",
    "from datetime import datetime, timedelta\n",
    "import matplotlib.pyplot as plt\n",
    "import numpy as np\n",
    "from statsmodels.tsa.arima.model import ARIMA\n",
    "from statsmodels.tsa.statespace.sarimax import SARIMAX\n",
    "from time import time\n",
    "from datetime import timedelta"
   ]
  },
  {
   "cell_type": "code",
   "execution_count": null,
   "metadata": {},
   "outputs": [],
   "source": [
    "energy_temperature_df = pd.read_excel('data/ET Kurver.xlsx')"
   ]
  },
  {
   "cell_type": "code",
   "execution_count": null,
   "metadata": {},
   "outputs": [],
   "source": [
    "energy_temperature_df.loc[278]"
   ]
  },
  {
   "cell_type": "code",
   "execution_count": null,
   "metadata": {},
   "outputs": [],
   "source": [
    "def linear_interpolation(x, x0, y0, x1, y1):\n",
    "    if x == x0:\n",
    "        return y0\n",
    "    if x == x1:\n",
    "        return y1\n",
    "\n",
    "    slope = (y1 - y0) / (x1 - x0)\n",
    "    return y0 + (x - x0) * slope\n",
    "\n",
    "class et_curve():\n",
    "    def __init__(self, baseline, dx, dy):\n",
    "        self.baseline = baseline\n",
    "        self.dx = dx\n",
    "        self.dy = dy\n",
    "\n",
    "    def expected(self, temperature):\n",
    "        if temperature < self.dx[0]:\n",
    "            print(f'{temperature} is below range, lowest point is ({self.dx[0]}, {self.dy[0]})')\n",
    "            # TODO improve this prediction\n",
    "            return self.dy[0]\n",
    "        if temperature > self.dx[-1]:\n",
    "            print(f'{temperature} is above range, highest point is ({self.dx[-1]}, {self.dy[-1]})')\n",
    "            return self.dy[-1]\n",
    "\n",
    "        for i in range(len(self.dx) - 1):\n",
    "            if self.dx[i] <= temperature and temperature <= self.dx[i+1]:\n",
    "                return linear_interpolation(temperature, self.dx[i], self.dy[i], self.dx[i+1], self.dy[i+1])\n",
    "\n",
    "        return None\n"
   ]
  },
  {
   "cell_type": "code",
   "execution_count": null,
   "metadata": {},
   "outputs": [],
   "source": [
    "def et_curve_from_pandas_row(row: pd.core.series.Series) -> et_curve:\n",
    "    baseline = row['Grunnlast']\n",
    "\n",
    "    dx = []\n",
    "    dy = []\n",
    "    for i in range(1,7):\n",
    "        x = row[f'DX{i}']\n",
    "        y = row[f'DY{i}']\n",
    "        if (not np.isnan(x)) and (not np.isnan(y)):\n",
    "            dx.append(x)\n",
    "            dy.append(y)\n",
    "\n",
    "    return et_curve(baseline, dx, dy)\n"
   ]
  },
  {
   "cell_type": "code",
   "execution_count": null,
   "metadata": {},
   "outputs": [],
   "source": [
    "test_et = et_curve_from_pandas_row(energy_temperature_df.loc[278])\n",
    "\n",
    "for i in range(-20, 22):\n",
    "    prediction = test_et.expected(i)\n",
    "    print(f'temp: {i} expected: {prediction:.1f} kWh/uke')\n"
   ]
  },
  {
   "cell_type": "code",
   "execution_count": null,
   "metadata": {},
   "outputs": [],
   "source": []
  }
 ],
 "metadata": {
  "interpreter": {
   "hash": "3ac82abe5bd5dc64103c193a10ddf3874892ec2efe60c6d5640b2e3c05faa57e"
  },
  "kernelspec": {
   "display_name": "Python 3.9.1 64-bit",
   "language": "python",
   "name": "python3"
  },
  "language_info": {
   "codemirror_mode": {
    "name": "ipython",
    "version": 3
   },
   "file_extension": ".py",
   "mimetype": "text/x-python",
   "name": "python",
   "nbconvert_exporter": "python",
   "pygments_lexer": "ipython3",
   "version": "3.9.1"
  },
  "orig_nbformat": 4
 },
 "nbformat": 4,
 "nbformat_minor": 2
}

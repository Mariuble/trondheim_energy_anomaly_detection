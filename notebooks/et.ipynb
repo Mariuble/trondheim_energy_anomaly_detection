{
 "cells": [
  {
   "cell_type": "code",
   "execution_count": 69,
   "metadata": {},
   "outputs": [],
   "source": [
    "import pandas as pd\n",
    "from datetime import datetime, timedelta\n",
    "import matplotlib.pyplot as plt\n",
    "import numpy as np\n",
    "from statsmodels.tsa.arima.model import ARIMA\n",
    "from statsmodels.tsa.statespace.sarimax import SARIMAX\n",
    "from time import time\n",
    "from datetime import timedelta"
   ]
  },
  {
   "cell_type": "code",
   "execution_count": 70,
   "metadata": {},
   "outputs": [],
   "source": [
    "energy_temperature_df = pd.read_excel('data/ET Kurver.xlsx')"
   ]
  },
  {
   "cell_type": "code",
   "execution_count": 71,
   "metadata": {},
   "outputs": [
    {
     "data": {
      "text/plain": [
       " Bygg         Trondheim Kommune - Voldsminde barnehage\n",
       "Fra                                         04.01.2016\n",
       "DX1                                                NaN\n",
       "DX2                                              -15.0\n",
       "DX3                                               -1.4\n",
       "DX4                                                4.6\n",
       "DX5                                               10.5\n",
       "DX6                                               25.0\n",
       "DY1                                                NaN\n",
       "DY2                                            12800.0\n",
       "DY3                                             8000.0\n",
       "DY4                                             5800.0\n",
       "DY5                                             2900.0\n",
       "DY6                                             2900.0\n",
       "ETXMin                                             -15\n",
       "ETXMax                                              25\n",
       "ETYMin                                               0\n",
       "ETXMax.1                                         15000\n",
       "Grunnlast                                       2900.0\n",
       "ETColor                                              0\n",
       "Navn                      Voldsminde bhg 18.12.2016 HL\n",
       "Name: 278, dtype: object"
      ]
     },
     "execution_count": 71,
     "metadata": {},
     "output_type": "execute_result"
    }
   ],
   "source": [
    "energy_temperature_df.loc[278]"
   ]
  },
  {
   "cell_type": "code",
   "execution_count": 72,
   "metadata": {},
   "outputs": [],
   "source": [
    "def linear_interpolation(x, x0, y0, x1, y1):\n",
    "    if x == x0:\n",
    "        return y0\n",
    "    if x == x1:\n",
    "        return y1\n",
    "\n",
    "    slope = (y1 - y0) / (x1 - x0)\n",
    "    return y0 + (x - x0) * slope\n",
    "\n",
    "class et_curve():\n",
    "    def __init__(self, baseline, dx, dy):\n",
    "        self.baseline = baseline\n",
    "        self.dx = dx\n",
    "        self.dy = dy\n",
    "\n",
    "    def expected(self, temperature):\n",
    "        if temperature < self.dx[0]:\n",
    "            print(f'{temperature} is below range, lowest point is ({self.dx[0]}, {self.dy[0]})')\n",
    "            # TODO improve this prediction\n",
    "            return self.dy[0]\n",
    "        if temperature > self.dx[-1]:\n",
    "            print(f'{temperature} is above range, highest point is ({self.dx[-1]}, {self.dy[-1]})')\n",
    "            return self.dy[-1]\n",
    "\n",
    "        for i in range(len(self.dx) - 1):\n",
    "            if self.dx[i] <= temperature and temperature <= self.dx[i+1]:\n",
    "                return linear_interpolation(temperature, self.dx[i], self.dy[i], self.dx[i+1], self.dy[i+1])\n",
    "\n",
    "        return None\n"
   ]
  },
  {
   "cell_type": "code",
   "execution_count": 73,
   "metadata": {},
   "outputs": [],
   "source": [
    "def et_curve_from_pandas_row(row: pd.core.series.Series) -> et_curve:\n",
    "    baseline = row['Grunnlast']\n",
    "\n",
    "    dx = []\n",
    "    dy = []\n",
    "    for i in range(1,7):\n",
    "        x = row[f'DX{i}']\n",
    "        y = row[f'DY{i}']\n",
    "        if (not np.isnan(x)) and (not np.isnan(y)):\n",
    "            dx.append(x)\n",
    "            dy.append(y)\n",
    "\n",
    "    return et_curve(baseline, dx, dy)\n"
   ]
  },
  {
   "cell_type": "code",
   "execution_count": 74,
   "metadata": {},
   "outputs": [
    {
     "name": "stdout",
     "output_type": "stream",
     "text": [
      "-20 is below range, lowest point is (-15.0, 12800.0)\n",
      "temp: -20 expected: 12800.0 kWh/uke\n",
      "-19 is below range, lowest point is (-15.0, 12800.0)\n",
      "temp: -19 expected: 12800.0 kWh/uke\n",
      "-18 is below range, lowest point is (-15.0, 12800.0)\n",
      "temp: -18 expected: 12800.0 kWh/uke\n",
      "-17 is below range, lowest point is (-15.0, 12800.0)\n",
      "temp: -17 expected: 12800.0 kWh/uke\n",
      "-16 is below range, lowest point is (-15.0, 12800.0)\n",
      "temp: -16 expected: 12800.0 kWh/uke\n",
      "temp: -15 expected: 12800.0 kWh/uke\n",
      "temp: -14 expected: 12447.1 kWh/uke\n",
      "temp: -13 expected: 12094.1 kWh/uke\n",
      "temp: -12 expected: 11741.2 kWh/uke\n",
      "temp: -11 expected: 11388.2 kWh/uke\n",
      "temp: -10 expected: 11035.3 kWh/uke\n",
      "temp: -9 expected: 10682.4 kWh/uke\n",
      "temp: -8 expected: 10329.4 kWh/uke\n",
      "temp: -7 expected: 9976.5 kWh/uke\n",
      "temp: -6 expected: 9623.5 kWh/uke\n",
      "temp: -5 expected: 9270.6 kWh/uke\n",
      "temp: -4 expected: 8917.6 kWh/uke\n",
      "temp: -3 expected: 8564.7 kWh/uke\n",
      "temp: -2 expected: 8211.8 kWh/uke\n",
      "temp: -1 expected: 7853.3 kWh/uke\n",
      "temp: 0 expected: 7486.7 kWh/uke\n",
      "temp: 1 expected: 7120.0 kWh/uke\n",
      "temp: 2 expected: 6753.3 kWh/uke\n",
      "temp: 3 expected: 6386.7 kWh/uke\n",
      "temp: 4 expected: 6020.0 kWh/uke\n",
      "temp: 5 expected: 5603.4 kWh/uke\n",
      "temp: 6 expected: 5111.9 kWh/uke\n",
      "temp: 7 expected: 4620.3 kWh/uke\n",
      "temp: 8 expected: 4128.8 kWh/uke\n",
      "temp: 9 expected: 3637.3 kWh/uke\n",
      "temp: 10 expected: 3145.8 kWh/uke\n",
      "temp: 11 expected: 2900.0 kWh/uke\n",
      "temp: 12 expected: 2900.0 kWh/uke\n",
      "temp: 13 expected: 2900.0 kWh/uke\n",
      "temp: 14 expected: 2900.0 kWh/uke\n",
      "temp: 15 expected: 2900.0 kWh/uke\n",
      "temp: 16 expected: 2900.0 kWh/uke\n",
      "temp: 17 expected: 2900.0 kWh/uke\n",
      "temp: 18 expected: 2900.0 kWh/uke\n",
      "temp: 19 expected: 2900.0 kWh/uke\n",
      "temp: 20 expected: 2900.0 kWh/uke\n",
      "temp: 21 expected: 2900.0 kWh/uke\n"
     ]
    }
   ],
   "source": [
    "test_et = et_curve_from_pandas_row(energy_temperature_df.loc[278])\n",
    "\n",
    "for i in range(-20, 22):\n",
    "    prediction = test_et.expected(i)\n",
    "    print(f'temp: {i} expected: {prediction:.1f} kWh/uke')\n"
   ]
  },
  {
   "cell_type": "code",
   "execution_count": 75,
   "metadata": {},
   "outputs": [],
   "source": [
    "energy_consumption_and_temp_df = pd.read_excel('data/EsaveExport_Trondheim Kommune_Trondheim_10121314.xls', parse_dates=['Unnamed: 0'], decimal=',', sheet_name='Export_4')\n",
    "energy_consumption_and_temp_df.rename(columns={'Unnamed: 0': 'datetime'}, inplace=True)\n",
    "energy_consumption_and_temp_df.set_index('datetime', inplace=True)"
   ]
  },
  {
   "cell_type": "code",
   "execution_count": 76,
   "metadata": {},
   "outputs": [],
   "source": [
    "temp_voll = energy_consumption_and_temp_df['Eklima_68860_TAM']"
   ]
  },
  {
   "cell_type": "code",
   "execution_count": 77,
   "metadata": {},
   "outputs": [
    {
     "data": {
      "text/plain": [
       "datetime\n",
       "2015-01-01 00:00:00    3.6\n",
       "2015-01-01 01:00:00    3.6\n",
       "2015-01-01 02:00:00    3.6\n",
       "2015-01-01 03:00:00    3.6\n",
       "2015-01-01 04:00:00    3.6\n",
       "                      ... \n",
       "2020-01-01 19:00:00    7.4\n",
       "2020-01-01 20:00:00    7.4\n",
       "2020-01-01 21:00:00    7.4\n",
       "2020-01-01 22:00:00    7.4\n",
       "2020-01-01 23:00:00    7.4\n",
       "Name: Eklima_68860_TAM, Length: 43848, dtype: float64"
      ]
     },
     "execution_count": 77,
     "metadata": {},
     "output_type": "execute_result"
    }
   ],
   "source": [
    "temp_voll"
   ]
  },
  {
   "cell_type": "code",
   "execution_count": 78,
   "metadata": {},
   "outputs": [
    {
     "data": {
      "image/png": "[encoded data removed]",
      "text/plain": [
       "<Figure size 432x288 with 1 Axes>"
      ]
     },
     "metadata": {
      "needs_background": "light"
     },
     "output_type": "display_data"
    }
   ],
   "source": [
    "temp_voll.plot()\n",
    "plt.show()"
   ]
  },
  {
   "cell_type": "code",
   "execution_count": 79,
   "metadata": {},
   "outputs": [],
   "source": [
    "energy_consumption_and_temp_weekly_df = energy_consumption_and_temp_df.resample('W-MON').sum()"
   ]
  },
  {
   "cell_type": "code",
   "execution_count": 80,
   "metadata": {},
   "outputs": [],
   "source": [
    "energy_consumption_df = pd.read_excel('data/EsaveExport_Trondheim Kommune_Trondheim_10121314.xls', parse_dates=['Unnamed: 0'], decimal=',', sheet_name='Export_1')\n",
    "energy_consumption_df.rename(columns={'Unnamed: 0': 'datetime'}, inplace=True)\n",
    "energy_consumption_df.set_index('datetime', inplace=True)\n",
    "energy_consumption_weekly_df = energy_consumption_df.resample('W-MON').sum()"
   ]
  },
  {
   "cell_type": "code",
   "execution_count": 81,
   "metadata": {},
   "outputs": [
    {
     "data": {
      "text/plain": [
       "datetime\n",
       "2015-01-05     927.2\n",
       "2015-01-12    1954.4\n",
       "2015-01-19    2065.0\n",
       "2015-01-26    2189.0\n",
       "2015-02-02    2391.4\n",
       "               ...  \n",
       "2019-12-09    1930.0\n",
       "2019-12-16    1806.0\n",
       "2019-12-23    1975.0\n",
       "2019-12-30    1364.0\n",
       "2020-01-06     307.0\n",
       "Freq: W-MON, Name: 707057500068616428, Length: 262, dtype: float64"
      ]
     },
     "execution_count": 81,
     "metadata": {},
     "output_type": "execute_result"
    }
   ],
   "source": [
    "energy_consumption_weekly_df['707057500068616428']"
   ]
  },
  {
   "cell_type": "code",
   "execution_count": 82,
   "metadata": {},
   "outputs": [],
   "source": [
    "energy_consumption_weekly_series = energy_consumption_weekly_df['707057500068616428'] + energy_consumption_weekly_df['ESAVE_89434-980396002_EAN']"
   ]
  },
  {
   "cell_type": "code",
   "execution_count": 83,
   "metadata": {},
   "outputs": [],
   "source": [
    "temp_voll_weekly_mean = temp_voll.resample('W-MON').mean()"
   ]
  },
  {
   "cell_type": "code",
   "execution_count": 84,
   "metadata": {},
   "outputs": [],
   "source": [
    "et_prediction_weekly = temp_voll_weekly_mean.apply(test_et.expected)"
   ]
  },
  {
   "cell_type": "code",
   "execution_count": 85,
   "metadata": {},
   "outputs": [
    {
     "data": {
      "image/png": "[encoded data removed]",
      "text/plain": [
       "<Figure size 432x288 with 1 Axes>"
      ]
     },
     "metadata": {
      "needs_background": "light"
     },
     "output_type": "display_data"
    }
   ],
   "source": [
    "start_plot = datetime(2018, 6, 1, 1)\n",
    "stop_plot = datetime(2019, 1, 1, 0)\n",
    "\n",
    "energy_consumption_weekly_series.plot(xlim=(start_plot, stop_plot))\n",
    "et_prediction_weekly.plot(xlim=(start_plot, stop_plot))\n",
    "plt.show()"
   ]
  }
 ],
 "metadata": {
  "interpreter": {
   "hash": "3ac82abe5bd5dc64103c193a10ddf3874892ec2efe60c6d5640b2e3c05faa57e"
  },
  "kernelspec": {
   "display_name": "Python 3.9.1 64-bit",
   "language": "python",
   "name": "python3"
  },
  "language_info": {
   "codemirror_mode": {
    "name": "ipython",
    "version": 3
   },
   "file_extension": ".py",
   "mimetype": "text/x-python",
   "name": "python",
   "nbconvert_exporter": "python",
   "pygments_lexer": "ipython3",
   "version": "3.9.1"
  },
  "orig_nbformat": 4
 },
 "nbformat": 4,
 "nbformat_minor": 2
}

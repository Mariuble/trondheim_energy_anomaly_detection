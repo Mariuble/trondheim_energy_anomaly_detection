{
 "cells": [
  {
   "cell_type": "code",
   "execution_count": 4,
   "id": "a1bd012d",
   "metadata": {},
   "outputs": [
    {
     "name": "stdout",
     "output_type": "stream",
     "text": [
      "['c:\\\\Users\\\\Jacob\\\\Desktop\\\\lokal energi\\\\trdk02_energy_consumption\\\\models\\\\resources', 'C:\\\\Users\\\\Jacob\\\\AppData\\\\Local\\\\Programs\\\\Python\\\\Python310\\\\python310.zip', 'C:\\\\Users\\\\Jacob\\\\AppData\\\\Local\\\\Programs\\\\Python\\\\Python310\\\\DLLs', 'C:\\\\Users\\\\Jacob\\\\AppData\\\\Local\\\\Programs\\\\Python\\\\Python310\\\\lib', 'C:\\\\Users\\\\Jacob\\\\AppData\\\\Local\\\\Programs\\\\Python\\\\Python310', '', 'C:\\\\Users\\\\Jacob\\\\AppData\\\\Local\\\\Programs\\\\Python\\\\Python310\\\\lib\\\\site-packages', 'C:\\\\Users\\\\Jacob\\\\AppData\\\\Local\\\\Programs\\\\Python\\\\Python310\\\\lib\\\\site-packages\\\\win32', 'C:\\\\Users\\\\Jacob\\\\AppData\\\\Local\\\\Programs\\\\Python\\\\Python310\\\\lib\\\\site-packages\\\\win32\\\\lib', 'C:\\\\Users\\\\Jacob\\\\AppData\\\\Local\\\\Programs\\\\Python\\\\Python310\\\\lib\\\\site-packages\\\\Pythonwin', 'C:\\\\Users\\\\Jacob\\\\AppData\\\\Roaming\\\\Python\\\\Python310\\\\site-packages']\n"
     ]
    }
   ],
   "source": [
    "from tensorflow import keras\n",
    "from utils import load_meters_data\n",
    "from utils import prepare_data\n",
    "meters_data = load_meters_data('data/EsaveExport_Trondheim Kommune_Trondheim_10121314.xls')\n",
    "X_train, X_test = prepare_data(meters_data, time_steps=10)\n",
    "model = keras.models.load_model('../autoencoder1.0')"
   ]
  }
 ],
 "metadata": {
  "interpreter": {
   "hash": "bf2fc11eda08b5f42486a8cbeb0ff70b75f1a4944ef66bdbc4ec3939abe73a2a"
  },
  "kernelspec": {
   "display_name": "Python 3.10.2 64-bit",
   "name": "python3"
  },
  "language_info": {
   "codemirror_mode": {
    "name": "ipython",
    "version": 3
   },
   "file_extension": ".py",
   "mimetype": "text/x-python",
   "name": "python",
   "nbconvert_exporter": "python",
   "pygments_lexer": "ipython3",
   "version": "3.10.2"
  }
 },
 "nbformat": 4,
 "nbformat_minor": 5
}

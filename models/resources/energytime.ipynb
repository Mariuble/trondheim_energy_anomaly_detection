{
 "cells": [
  {
   "cell_type": "code",
   "execution_count": 25,
   "metadata": {},
   "outputs": [],
   "source": [
    "from utils import load_and_prepare_building_dfs, get_voll_temps, normalize_building_dfs\n",
    "import matplotlib.pyplot as plt"
   ]
  },
  {
   "cell_type": "code",
   "execution_count": 26,
   "metadata": {},
   "outputs": [
    {
     "name": "stdout",
     "output_type": "stream",
     "text": [
      "Data loaded in 139.6342544555664 seconds\n"
     ]
    }
   ],
   "source": [
    "df = load_and_prepare_building_dfs(esave_path=\"data/EsaveExport_Trondheim Kommune_Trondheim_10121314.xls\", vis_path=\"data/VIS Målere.xlsx\")\n",
    "temps = get_voll_temps(voll_path=\"data/Volltemp.xlsx\").resample(\"D\").mean().values"
   ]
  },
  {
   "cell_type": "code",
   "execution_count": 27,
   "metadata": {},
   "outputs": [],
   "source": [
    "# increase fig size\n",
    "plt.rcParams['figure.figsize'] = (10, 5)\n",
    "# plot time and and energy usage of the first 10 buildings\n",
    "# x axis is day of the year\n",
    "# energy usage is the y axis\n",
    "# the color of the points is the temperature that time\n",
    "\n",
    "i = 0\n",
    "for building, values in df.items():\n",
    "    i += 1\n",
    "    if i > 10:\n",
    "        break\n",
    "    # sum energy usage of the building\n",
    "    values = values.resample(\"D\").sum()\n",
    "    # get the temperature that day\n",
    "    y = values[\"Totalt\"]\n",
    "    x = values.index.dayofyear\n",
    "    plt.scatter(x, y, c=temps, s=10)\n",
    "    plt.title(building)\n",
    "    plt.show()"
   ]
  },
  {
   "cell_type": "code",
   "execution_count": 28,
   "metadata": {},
   "outputs": [],
   "source": [
    "# sample every building daily\n",
    "for building, values in df.items():\n",
    "    df[building] = values.resample(\"D\").sum()\n",
    "\n",
    "# normalize all buildings from 0 to 1\n",
    "building_dfs = normalize_building_dfs(df)\n",
    "\n",
    "# plot first all buildings on same graph\n",
    "i = 0\n",
    "\n",
    "for building, values in building_dfs.items():\n",
    "    i += 1\n",
    "    # sum energy usage of the building\n",
    "    # get the temperature that day\n",
    "    y = values[\"Totalt\"]\n",
    "    x = values.index.dayofyear\n",
    "    plt.scatter(x, y)\n",
    "    \n",
    "plt.show()"
   ]
  },
  {
   "cell_type": "code",
   "execution_count": 32,
   "metadata": {},
   "outputs": [
    {
     "name": "stdout",
     "output_type": "stream",
     "text": [
      "Trondheim Kommune - Kalvskinnet bskole\n"
     ]
    }
   ],
   "source": [
    "# engery usage vs time for one building\n",
    "building = list(building_dfs.keys())[10]\n",
    "values = building_dfs[building]\n",
    "ytime = values[\"Totalt\"]\n",
    "xtime = values.index.dayofyear\n",
    "\n",
    "# energy usage vs temperature for one building\n",
    "ytemp = values[\"Totalt\"]\n",
    "xtemp = [t[0] for t in temps]\n",
    "\n",
    "# scatter plot both graphs as two subplots\n",
    "fig, (ax1, ax2) = plt.subplots(1, 2)\n",
    "ax1.scatter(xtime, ytime, s=10)\n",
    "ax2.scatter(xtemp, ytemp, s=10)\n",
    "# set x and y labels for fig\n",
    "ax1.set_xlabel(\"Time (day of year)\")\n",
    "ax2.set_ylabel(\"Temperature (°C)\")\n",
    "fig.supylabel(\"Energy usage (normalized kWh)\")\n",
    "\n",
    "plt.show()\n",
    "print(building)"
   ]
  },
  {
   "cell_type": "code",
   "execution_count": 38,
   "metadata": {},
   "outputs": [],
   "source": [
    "energy = building_dfs[building][\"Totalt\"]\n",
    "time = building_dfs[building].index.dayofyear\n",
    "temp = [t[0] for t in temps]\n",
    "\n",
    "\n",
    "# plot 3d graph of time, temp, energy, interactive with notebook\n",
    "#%matplotlib qt\n",
    "plt.figure(figsize=(10, 10))\n",
    "ax = plt.axes(projection=\"3d\")\n",
    "ax.scatter3D(time, temp, energy, s=10, c=energy)\n",
    "ax.set_xlabel(\"Time (day of year)\")\n",
    "ax.set_ylabel(\"Temperature (°C)\")\n",
    "ax.set_zlabel(\"Energy usage (normalized kWh)\")\n",
    "\n",
    "plt.show()"
   ]
  },
  {
   "cell_type": "code",
   "execution_count": 31,
   "metadata": {},
   "outputs": [
    {
     "name": "stdout",
     "output_type": "stream",
     "text": [
      "1825\n",
      "(5, 365)\n"
     ]
    }
   ],
   "source": [
    "# take sum of energy usage of all buildings for each day\n",
    "import numpy as np\n",
    "\n",
    "days = range(0, 1827)\n",
    "energy = np.zeros(1827)\n",
    "\n",
    "for building, values in building_dfs.items():\n",
    "    # if nan continue\n",
    "    if np.isnan(values[\"Totalt\"]).any():\n",
    "        continue\n",
    "\n",
    "    energy += values[\"Totalt\"].values\n",
    "\n",
    "# plot energy usage of all buildings\n",
    "plt.plot(days, energy)\n",
    "# plot temperature\n",
    "plt.plot(days, -temps/10 + 70)\n",
    "for i in range(0,5):\n",
    "    plt.axvline(x=i*365 + 275, color=\"red\")\n",
    "plt.show()\n",
    "\n",
    "energy = energy[:-2]\n",
    "print(len(energy))\n",
    "energy = energy.reshape(5, -1)\n",
    "print(energy.shape)\n",
    "energy = energy.sum(axis=0)\n",
    "\n",
    "# scatter plot of energy usage\n",
    "plt.plot(range(365), energy)\n",
    "# create vline every 7 days\n",
    "for i in range(0, 365, 7):\n",
    "    plt.axvline(x=i, color=\"red\")\n",
    "plt.show()"
   ]
  }
 ],
 "metadata": {
  "interpreter": {
   "hash": "bf2fc11eda08b5f42486a8cbeb0ff70b75f1a4944ef66bdbc4ec3939abe73a2a"
  },
  "kernelspec": {
   "display_name": "Python 3.10.2 64-bit",
   "language": "python",
   "name": "python3"
  },
  "language_info": {
   "codemirror_mode": {
    "name": "ipython",
    "version": 3
   },
   "file_extension": ".py",
   "mimetype": "text/x-python",
   "name": "python",
   "nbconvert_exporter": "python",
   "pygments_lexer": "ipython3",
   "version": "3.8.12"
  },
  "orig_nbformat": 4
 },
 "nbformat": 4,
 "nbformat_minor": 2
}
